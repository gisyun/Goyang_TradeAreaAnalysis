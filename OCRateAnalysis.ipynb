{
 "cells": [
  {
   "cell_type": "code",
   "execution_count": 2,
   "id": "d9acbd56",
   "metadata": {},
   "outputs": [],
   "source": [
    "import os\n",
    "import pandas as pd \n",
    "import numpy as np \n",
    "import matplotlib.pyplot as plt\n",
    "import seaborn as sns \n",
    "import geopandas as gpd "
   ]
  },
  {
   "cell_type": "code",
   "execution_count": 3,
   "id": "50f84c9b",
   "metadata": {},
   "outputs": [],
   "source": [
    "import seaborn as sns\n",
    "import matplotlib.pyplot as plt\n",
    "\n",
    "from matplotlib import rc\n",
    "rc('font', family='AppleGothic')\n",
    "plt.rcParams['axes.unicode_minus'] = False"
   ]
  },
  {
   "cell_type": "markdown",
   "id": "4bba7a47",
   "metadata": {},
   "source": [
    "# Trade Area Analysis"
   ]
  },
  {
   "cell_type": "markdown",
   "id": "67799ed3",
   "metadata": {},
   "source": [
    "### Opening Rate and Closing Rate Data Analysis \n",
    "- 발달상권\n",
    "- 골목상권\n",
    "- 전통시장"
   ]
  },
  {
   "cell_type": "code",
   "execution_count": 10,
   "id": "dbadbea0",
   "metadata": {},
   "outputs": [
    {
     "ename": "FileNotFoundError",
     "evalue": "[Errno 2] No such file or directory: '상권분석/상권별/발달상권/개폐업수(율)/전체업종/개폐업수(율)(2017_4분기_전분기_발달상권_업종전체_상권별현황).xlsx'",
     "output_type": "error",
     "traceback": [
      "\u001b[31m---------------------------------------------------------------------------\u001b[39m",
      "\u001b[31mFileNotFoundError\u001b[39m                         Traceback (most recent call last)",
      "\u001b[36mCell\u001b[39m\u001b[36m \u001b[39m\u001b[32mIn[10]\u001b[39m\u001b[32m, line 16\u001b[39m\n\u001b[32m     14\u001b[39m     filename = \u001b[33mf\u001b[39m\u001b[33m\"\u001b[39m\u001b[33m개폐업수(율)(\u001b[39m\u001b[38;5;132;01m{\u001b[39;00myear\u001b[38;5;132;01m}\u001b[39;00m\u001b[33m_\u001b[39m\u001b[38;5;132;01m{\u001b[39;00mquarter\u001b[38;5;132;01m}\u001b[39;00m\u001b[33m_전분기_발달상권_업종전체_상권별현황).xlsx\u001b[39m\u001b[33m\"\u001b[39m\n\u001b[32m     15\u001b[39m     path = os.path.join(ocr_path, filename)\n\u001b[32m---> \u001b[39m\u001b[32m16\u001b[39m     dfs[\u001b[33mf\u001b[39m\u001b[33m\"\u001b[39m\u001b[33mocr_\u001b[39m\u001b[38;5;132;01m{\u001b[39;00myear\u001b[38;5;132;01m}\u001b[39;00m\u001b[33m\"\u001b[39m] = \u001b[43mpd\u001b[49m\u001b[43m.\u001b[49m\u001b[43mread_excel\u001b[49m\u001b[43m(\u001b[49m\u001b[43mpath\u001b[49m\u001b[43m)\u001b[49m\n\u001b[32m     18\u001b[39m \u001b[38;5;66;03m# generate dataframes for each year (2017-2025)\u001b[39;00m\n\u001b[32m     19\u001b[39m \u001b[38;5;28;01mfor\u001b[39;00m year \u001b[38;5;129;01min\u001b[39;00m \u001b[38;5;28mrange\u001b[39m(\u001b[32m2017\u001b[39m, \u001b[32m2026\u001b[39m):\n",
      "\u001b[36mFile \u001b[39m\u001b[32m/Library/Frameworks/Python.framework/Versions/3.13/lib/python3.13/site-packages/pandas/io/excel/_base.py:495\u001b[39m, in \u001b[36mread_excel\u001b[39m\u001b[34m(io, sheet_name, header, names, index_col, usecols, dtype, engine, converters, true_values, false_values, skiprows, nrows, na_values, keep_default_na, na_filter, verbose, parse_dates, date_parser, date_format, thousands, decimal, comment, skipfooter, storage_options, dtype_backend, engine_kwargs)\u001b[39m\n\u001b[32m    493\u001b[39m \u001b[38;5;28;01mif\u001b[39;00m \u001b[38;5;129;01mnot\u001b[39;00m \u001b[38;5;28misinstance\u001b[39m(io, ExcelFile):\n\u001b[32m    494\u001b[39m     should_close = \u001b[38;5;28;01mTrue\u001b[39;00m\n\u001b[32m--> \u001b[39m\u001b[32m495\u001b[39m     io = \u001b[43mExcelFile\u001b[49m\u001b[43m(\u001b[49m\n\u001b[32m    496\u001b[39m \u001b[43m        \u001b[49m\u001b[43mio\u001b[49m\u001b[43m,\u001b[49m\n\u001b[32m    497\u001b[39m \u001b[43m        \u001b[49m\u001b[43mstorage_options\u001b[49m\u001b[43m=\u001b[49m\u001b[43mstorage_options\u001b[49m\u001b[43m,\u001b[49m\n\u001b[32m    498\u001b[39m \u001b[43m        \u001b[49m\u001b[43mengine\u001b[49m\u001b[43m=\u001b[49m\u001b[43mengine\u001b[49m\u001b[43m,\u001b[49m\n\u001b[32m    499\u001b[39m \u001b[43m        \u001b[49m\u001b[43mengine_kwargs\u001b[49m\u001b[43m=\u001b[49m\u001b[43mengine_kwargs\u001b[49m\u001b[43m,\u001b[49m\n\u001b[32m    500\u001b[39m \u001b[43m    \u001b[49m\u001b[43m)\u001b[49m\n\u001b[32m    501\u001b[39m \u001b[38;5;28;01melif\u001b[39;00m engine \u001b[38;5;129;01mand\u001b[39;00m engine != io.engine:\n\u001b[32m    502\u001b[39m     \u001b[38;5;28;01mraise\u001b[39;00m \u001b[38;5;167;01mValueError\u001b[39;00m(\n\u001b[32m    503\u001b[39m         \u001b[33m\"\u001b[39m\u001b[33mEngine should not be specified when passing \u001b[39m\u001b[33m\"\u001b[39m\n\u001b[32m    504\u001b[39m         \u001b[33m\"\u001b[39m\u001b[33man ExcelFile - ExcelFile already has the engine set\u001b[39m\u001b[33m\"\u001b[39m\n\u001b[32m    505\u001b[39m     )\n",
      "\u001b[36mFile \u001b[39m\u001b[32m/Library/Frameworks/Python.framework/Versions/3.13/lib/python3.13/site-packages/pandas/io/excel/_base.py:1550\u001b[39m, in \u001b[36mExcelFile.__init__\u001b[39m\u001b[34m(self, path_or_buffer, engine, storage_options, engine_kwargs)\u001b[39m\n\u001b[32m   1548\u001b[39m     ext = \u001b[33m\"\u001b[39m\u001b[33mxls\u001b[39m\u001b[33m\"\u001b[39m\n\u001b[32m   1549\u001b[39m \u001b[38;5;28;01melse\u001b[39;00m:\n\u001b[32m-> \u001b[39m\u001b[32m1550\u001b[39m     ext = \u001b[43minspect_excel_format\u001b[49m\u001b[43m(\u001b[49m\n\u001b[32m   1551\u001b[39m \u001b[43m        \u001b[49m\u001b[43mcontent_or_path\u001b[49m\u001b[43m=\u001b[49m\u001b[43mpath_or_buffer\u001b[49m\u001b[43m,\u001b[49m\u001b[43m \u001b[49m\u001b[43mstorage_options\u001b[49m\u001b[43m=\u001b[49m\u001b[43mstorage_options\u001b[49m\n\u001b[32m   1552\u001b[39m \u001b[43m    \u001b[49m\u001b[43m)\u001b[49m\n\u001b[32m   1553\u001b[39m     \u001b[38;5;28;01mif\u001b[39;00m ext \u001b[38;5;129;01mis\u001b[39;00m \u001b[38;5;28;01mNone\u001b[39;00m:\n\u001b[32m   1554\u001b[39m         \u001b[38;5;28;01mraise\u001b[39;00m \u001b[38;5;167;01mValueError\u001b[39;00m(\n\u001b[32m   1555\u001b[39m             \u001b[33m\"\u001b[39m\u001b[33mExcel file format cannot be determined, you must specify \u001b[39m\u001b[33m\"\u001b[39m\n\u001b[32m   1556\u001b[39m             \u001b[33m\"\u001b[39m\u001b[33man engine manually.\u001b[39m\u001b[33m\"\u001b[39m\n\u001b[32m   1557\u001b[39m         )\n",
      "\u001b[36mFile \u001b[39m\u001b[32m/Library/Frameworks/Python.framework/Versions/3.13/lib/python3.13/site-packages/pandas/io/excel/_base.py:1402\u001b[39m, in \u001b[36minspect_excel_format\u001b[39m\u001b[34m(content_or_path, storage_options)\u001b[39m\n\u001b[32m   1399\u001b[39m \u001b[38;5;28;01mif\u001b[39;00m \u001b[38;5;28misinstance\u001b[39m(content_or_path, \u001b[38;5;28mbytes\u001b[39m):\n\u001b[32m   1400\u001b[39m     content_or_path = BytesIO(content_or_path)\n\u001b[32m-> \u001b[39m\u001b[32m1402\u001b[39m \u001b[38;5;28;01mwith\u001b[39;00m \u001b[43mget_handle\u001b[49m\u001b[43m(\u001b[49m\n\u001b[32m   1403\u001b[39m \u001b[43m    \u001b[49m\u001b[43mcontent_or_path\u001b[49m\u001b[43m,\u001b[49m\u001b[43m \u001b[49m\u001b[33;43m\"\u001b[39;49m\u001b[33;43mrb\u001b[39;49m\u001b[33;43m\"\u001b[39;49m\u001b[43m,\u001b[49m\u001b[43m \u001b[49m\u001b[43mstorage_options\u001b[49m\u001b[43m=\u001b[49m\u001b[43mstorage_options\u001b[49m\u001b[43m,\u001b[49m\u001b[43m \u001b[49m\u001b[43mis_text\u001b[49m\u001b[43m=\u001b[49m\u001b[38;5;28;43;01mFalse\u001b[39;49;00m\n\u001b[32m   1404\u001b[39m \u001b[43m\u001b[49m\u001b[43m)\u001b[49m \u001b[38;5;28;01mas\u001b[39;00m handle:\n\u001b[32m   1405\u001b[39m     stream = handle.handle\n\u001b[32m   1406\u001b[39m     stream.seek(\u001b[32m0\u001b[39m)\n",
      "\u001b[36mFile \u001b[39m\u001b[32m/Library/Frameworks/Python.framework/Versions/3.13/lib/python3.13/site-packages/pandas/io/common.py:882\u001b[39m, in \u001b[36mget_handle\u001b[39m\u001b[34m(path_or_buf, mode, encoding, compression, memory_map, is_text, errors, storage_options)\u001b[39m\n\u001b[32m    873\u001b[39m         handle = \u001b[38;5;28mopen\u001b[39m(\n\u001b[32m    874\u001b[39m             handle,\n\u001b[32m    875\u001b[39m             ioargs.mode,\n\u001b[32m   (...)\u001b[39m\u001b[32m    878\u001b[39m             newline=\u001b[33m\"\u001b[39m\u001b[33m\"\u001b[39m,\n\u001b[32m    879\u001b[39m         )\n\u001b[32m    880\u001b[39m     \u001b[38;5;28;01melse\u001b[39;00m:\n\u001b[32m    881\u001b[39m         \u001b[38;5;66;03m# Binary mode\u001b[39;00m\n\u001b[32m--> \u001b[39m\u001b[32m882\u001b[39m         handle = \u001b[38;5;28;43mopen\u001b[39;49m\u001b[43m(\u001b[49m\u001b[43mhandle\u001b[49m\u001b[43m,\u001b[49m\u001b[43m \u001b[49m\u001b[43mioargs\u001b[49m\u001b[43m.\u001b[49m\u001b[43mmode\u001b[49m\u001b[43m)\u001b[49m\n\u001b[32m    883\u001b[39m     handles.append(handle)\n\u001b[32m    885\u001b[39m \u001b[38;5;66;03m# Convert BytesIO or file objects passed with an encoding\u001b[39;00m\n",
      "\u001b[31mFileNotFoundError\u001b[39m: [Errno 2] No such file or directory: '상권분석/상권별/발달상권/개폐업수(율)/전체업종/개폐업수(율)(2017_4분기_전분기_발달상권_업종전체_상권별현황).xlsx'"
     ]
    }
   ],
   "source": [
    "# import opening and closing rate data using loop \n",
    "\n",
    "# ocr path \n",
    "ocr_path = \"상권분석/상권별/발달상권/개폐업수(율)/전체업종/\"\n",
    "\n",
    "years = range(2017, 2026)\n",
    "quarters = {\n",
    "    2025: \"2분기\",  # exception for 2025\n",
    "}\n",
    "dfs = {}\n",
    "\n",
    "for year in years:\n",
    "    quarter = quarters.get(year, \"4분기\")\n",
    "    filename = f\"개폐업수(율)({year}_{quarter}_전분기_발달상권_업종전체_상권별현황).xlsx\"\n",
    "    path = os.path.join(ocr_path, filename)\n",
    "    dfs[f\"ocr_{year}\"] = pd.read_excel(path)\n",
    "\n",
    "# generate dataframes for each year (2017-2025)\n",
    "for year in range(2017, 2026):\n",
    "    globals()[f\"ocr_{year}\"] = dfs[f\"ocr_{year}\"]\n",
    "\n",
    "# Access example\n",
    "ocr_2017 = dfs[\"ocr_2017\"]\n",
    "ocr_2017"
   ]
  },
  {
   "cell_type": "code",
   "execution_count": 5,
   "id": "c4702879",
   "metadata": {},
   "outputs": [
    {
     "ename": "KeyError",
     "evalue": "'ocr_2017'",
     "output_type": "error",
     "traceback": [
      "\u001b[31m---------------------------------------------------------------------------\u001b[39m",
      "\u001b[31mKeyError\u001b[39m                                  Traceback (most recent call last)",
      "\u001b[36mCell\u001b[39m\u001b[36m \u001b[39m\u001b[32mIn[5]\u001b[39m\u001b[32m, line 4\u001b[39m\n\u001b[32m      1\u001b[39m \u001b[38;5;66;03m# filter opening rate and closing rate with Q2 columns only \u001b[39;00m\n\u001b[32m      3\u001b[39m \u001b[38;5;28;01mfor\u001b[39;00m year \u001b[38;5;129;01min\u001b[39;00m \u001b[38;5;28mrange\u001b[39m(\u001b[32m2017\u001b[39m, \u001b[32m2026\u001b[39m):\n\u001b[32m----> \u001b[39m\u001b[32m4\u001b[39m     df = \u001b[38;5;28;43mglobals\u001b[39;49m\u001b[43m(\u001b[49m\u001b[43m)\u001b[49m\u001b[43m[\u001b[49m\u001b[33;43mf\u001b[39;49m\u001b[33;43m\"\u001b[39;49m\u001b[33;43mocr_\u001b[39;49m\u001b[38;5;132;43;01m{\u001b[39;49;00m\u001b[43myear\u001b[49m\u001b[38;5;132;43;01m}\u001b[39;49;00m\u001b[33;43m\"\u001b[39;49m\u001b[43m]\u001b[49m\n\u001b[32m      6\u001b[39m     start_idx = df[df[\u001b[33m\"\u001b[39m\u001b[33m행정구역\u001b[39m\u001b[33m\"\u001b[39m] == \u001b[33m\"\u001b[39m\u001b[33m고양시\u001b[39m\u001b[33m\"\u001b[39m].index[\u001b[32m0\u001b[39m]\n\u001b[32m      7\u001b[39m     end_idx = df[df[\u001b[33m\"\u001b[39m\u001b[33m행정구역\u001b[39m\u001b[33m\"\u001b[39m] == \u001b[33m\"\u001b[39m\u001b[33m과천시\u001b[39m\u001b[33m\"\u001b[39m].index[\u001b[32m0\u001b[39m]\n",
      "\u001b[31mKeyError\u001b[39m: 'ocr_2017'"
     ]
    }
   ],
   "source": [
    "# filter opening rate and closing rate with Q2 columns only \n",
    "\n",
    "for year in range(2017, 2026):\n",
    "    df = globals()[f\"ocr_{year}\"]\n",
    "    \n",
    "    start_idx = df[df[\"행정구역\"] == \"고양시\"].index[0]\n",
    "    end_idx = df[df[\"행정구역\"] == \"과천시\"].index[0]\n",
    "    \n",
    "    # Exclude '과천시' row\n",
    "    filtered = df.iloc[start_idx:end_idx]\n",
    "    \n",
    "    # Store result in new variable like filtered_2017\n",
    "    globals()[f\"filtered_{year}\"] = filtered\n",
    "\n",
    "\n",
    "filtered_2021"
   ]
  },
  {
   "cell_type": "code",
   "execution_count": 6,
   "id": "9d3ae313",
   "metadata": {},
   "outputs": [
    {
     "ename": "NameError",
     "evalue": "name 'filtered_2021' is not defined",
     "output_type": "error",
     "traceback": [
      "\u001b[31m---------------------------------------------------------------------------\u001b[39m",
      "\u001b[31mNameError\u001b[39m                                 Traceback (most recent call last)",
      "\u001b[36mCell\u001b[39m\u001b[36m \u001b[39m\u001b[32mIn[6]\u001b[39m\u001b[32m, line 1\u001b[39m\n\u001b[32m----> \u001b[39m\u001b[32m1\u001b[39m \u001b[43mfiltered_2021\u001b[49m.info()\n",
      "\u001b[31mNameError\u001b[39m: name 'filtered_2021' is not defined"
     ]
    }
   ],
   "source": [
    "filtered_2021.info()"
   ]
  },
  {
   "cell_type": "code",
   "execution_count": 7,
   "id": "d42d350c",
   "metadata": {},
   "outputs": [
    {
     "ename": "NameError",
     "evalue": "name 'filtered_2017' is not defined",
     "output_type": "error",
     "traceback": [
      "\u001b[31m---------------------------------------------------------------------------\u001b[39m",
      "\u001b[31mNameError\u001b[39m                                 Traceback (most recent call last)",
      "\u001b[36mCell\u001b[39m\u001b[36m \u001b[39m\u001b[32mIn[7]\u001b[39m\u001b[32m, line 3\u001b[39m\n\u001b[32m      1\u001b[39m \u001b[38;5;66;03m# select only relevant columns for each year (opening and closing rates for each year's Q2)\u001b[39;00m\n\u001b[32m----> \u001b[39m\u001b[32m3\u001b[39m filtered_2017 = \u001b[43mfiltered_2017\u001b[49m[[\u001b[33m\"\u001b[39m\u001b[33m행정구역\u001b[39m\u001b[33m\"\u001b[39m, \u001b[33m\"\u001b[39m\u001b[33m시군구코드\u001b[39m\u001b[33m\"\u001b[39m, \u001b[33m\"\u001b[39m\u001b[33m2017년2분기 개업수\u001b[39m\u001b[33m\"\u001b[39m, \u001b[33m\"\u001b[39m\u001b[33m2017년2분기 개업률\u001b[39m\u001b[33m\"\u001b[39m, \u001b[33m\"\u001b[39m\u001b[33m2017년2분기 폐업수\u001b[39m\u001b[33m\"\u001b[39m, \u001b[33m\"\u001b[39m\u001b[33m2017년2분기 폐업율\u001b[39m\u001b[33m\"\u001b[39m]]\n\u001b[32m      4\u001b[39m filtered_2018 = filtered_2018[[\u001b[33m\"\u001b[39m\u001b[33m행정구역\u001b[39m\u001b[33m\"\u001b[39m, \u001b[33m\"\u001b[39m\u001b[33m시군구코드\u001b[39m\u001b[33m\"\u001b[39m, \u001b[33m\"\u001b[39m\u001b[33m2018년2분기 개업수\u001b[39m\u001b[33m\"\u001b[39m, \u001b[33m\"\u001b[39m\u001b[33m2018년2분기 개업률\u001b[39m\u001b[33m\"\u001b[39m, \u001b[33m\"\u001b[39m\u001b[33m2018년2분기 폐업수\u001b[39m\u001b[33m\"\u001b[39m, \u001b[33m\"\u001b[39m\u001b[33m2018년2분기 폐업율\u001b[39m\u001b[33m\"\u001b[39m]]\n\u001b[32m      5\u001b[39m filtered_2019 = filtered_2019[[\u001b[33m\"\u001b[39m\u001b[33m행정구역\u001b[39m\u001b[33m\"\u001b[39m, \u001b[33m\"\u001b[39m\u001b[33m시군구코드\u001b[39m\u001b[33m\"\u001b[39m, \u001b[33m\"\u001b[39m\u001b[33m2019년2분기 개업수\u001b[39m\u001b[33m\"\u001b[39m, \u001b[33m\"\u001b[39m\u001b[33m2019년2분기 개업률\u001b[39m\u001b[33m\"\u001b[39m, \u001b[33m\"\u001b[39m\u001b[33m2019년2분기 폐업수\u001b[39m\u001b[33m\"\u001b[39m, \u001b[33m\"\u001b[39m\u001b[33m2019년2분기 폐업율\u001b[39m\u001b[33m\"\u001b[39m]]\n",
      "\u001b[31mNameError\u001b[39m: name 'filtered_2017' is not defined"
     ]
    }
   ],
   "source": [
    "\n",
    "# select only relevant columns for each year (opening and closing rates for each year's Q2)\n",
    "\n",
    "filtered_2017 = filtered_2017[[\"행정구역\", \"시군구코드\", \"2017년2분기 개업수\", \"2017년2분기 개업률\", \"2017년2분기 폐업수\", \"2017년2분기 폐업율\"]]\n",
    "filtered_2018 = filtered_2018[[\"행정구역\", \"시군구코드\", \"2018년2분기 개업수\", \"2018년2분기 개업률\", \"2018년2분기 폐업수\", \"2018년2분기 폐업율\"]]\n",
    "filtered_2019 = filtered_2019[[\"행정구역\", \"시군구코드\", \"2019년2분기 개업수\", \"2019년2분기 개업률\", \"2019년2분기 폐업수\", \"2019년2분기 폐업율\"]]\n",
    "filtered_2020 = filtered_2020[[\"행정구역\", \"시군구코드\", \"2020년2분기 개업수\", \"2020년2분기 개업률\", \"2020년2분기 폐업수\", \"2020년2분기 폐업율\"]]\n",
    "filtered_2021 = filtered_2021[[\"행정구역\", \"시군구코드\", \"2021년2분기 개업수\", \"2021년2분기 개업률\", \"2021년2분기 폐업수\", \"2021년2분기 폐업율\"]]\n",
    "filtered_2022 = filtered_2022[[\"행정구역\", \"시군구코드\", \"2022년2분기 개업수\", \"2022년2분기 개업률\", \"2022년2분기 폐업수\", \"2022년2분기 폐업율\"]]\n",
    "filtered_2023 = filtered_2023[[\"행정구역\", \"시군구코드\", \"2023년2분기 개업수\", \"2023년2분기 개업률\", \"2023년2분기 폐업수\", \"2023년2분기 폐업율\"]]\n",
    "filtered_2024 = filtered_2024[[\"행정구역\", \"시군구코드\", \"2024년2분기 개업수\", \"2024년2분기 개업률\", \"2024년2분기 폐업수\", \"2024년2분기 폐업율\"]]\n",
    "filtered_2025 = filtered_2025[[\"행정구역\", \"시군구코드\", \"2025년2분기 개업수\", \"2025년2분기 개업률\", \"2025년2분기 폐업수\", \"2025년2분기 폐업율\"]]\n",
    "\n",
    "filtered_2025\n",
    "\n"
   ]
  },
  {
   "cell_type": "code",
   "execution_count": 8,
   "id": "ff5df5fa",
   "metadata": {},
   "outputs": [
    {
     "ename": "KeyError",
     "evalue": "'filtered_2017'",
     "output_type": "error",
     "traceback": [
      "\u001b[31m---------------------------------------------------------------------------\u001b[39m",
      "\u001b[31mKeyError\u001b[39m                                  Traceback (most recent call last)",
      "\u001b[36mCell\u001b[39m\u001b[36m \u001b[39m\u001b[32mIn[8]\u001b[39m\u001b[32m, line 6\u001b[39m\n\u001b[32m      3\u001b[39m target_city = \u001b[33m\"\u001b[39m\u001b[33m고양시\u001b[39m\u001b[33m\"\u001b[39m\n\u001b[32m      5\u001b[39m \u001b[38;5;28;01mfor\u001b[39;00m year \u001b[38;5;129;01min\u001b[39;00m \u001b[38;5;28mrange\u001b[39m(\u001b[32m2017\u001b[39m, \u001b[32m2026\u001b[39m):\n\u001b[32m----> \u001b[39m\u001b[32m6\u001b[39m     df = \u001b[38;5;28;43mglobals\u001b[39;49m\u001b[43m(\u001b[49m\u001b[43m)\u001b[49m\u001b[43m[\u001b[49m\u001b[33;43mf\u001b[39;49m\u001b[33;43m\"\u001b[39;49m\u001b[33;43mfiltered_\u001b[39;49m\u001b[38;5;132;43;01m{\u001b[39;49;00m\u001b[43myear\u001b[49m\u001b[38;5;132;43;01m}\u001b[39;49;00m\u001b[33;43m\"\u001b[39;49m\u001b[43m]\u001b[49m              \u001b[38;5;66;03m# existing DF per year\u001b[39;00m\n\u001b[32m      7\u001b[39m     \u001b[38;5;28mglobals\u001b[39m()[\u001b[33mf\u001b[39m\u001b[33m\"\u001b[39m\u001b[33mgoyang_ocr_\u001b[39m\u001b[38;5;132;01m{\u001b[39;00myear\u001b[38;5;132;01m}\u001b[39;00m\u001b[33m\"\u001b[39m] = df[df[\u001b[33m\"\u001b[39m\u001b[33m행정구역\u001b[39m\u001b[33m\"\u001b[39m] == target_city]\n\u001b[32m      9\u001b[39m \u001b[38;5;28mprint\u001b[39m(goyang_ocr_2018)\n",
      "\u001b[31mKeyError\u001b[39m: 'filtered_2017'"
     ]
    }
   ],
   "source": [
    "# opening and closing rate analysis for 고양시 (2017-2025)\n",
    "\n",
    "target_city = \"고양시\"\n",
    "\n",
    "for year in range(2017, 2026):\n",
    "    df = globals()[f\"filtered_{year}\"]              # existing DF per year\n",
    "    globals()[f\"goyang_ocr_{year}\"] = df[df[\"행정구역\"] == target_city]\n",
    "\n",
    "print(goyang_ocr_2018)\n",
    "print(goyang_ocr_2022)\n"
   ]
  },
  {
   "cell_type": "code",
   "execution_count": 9,
   "id": "ce214a5e",
   "metadata": {},
   "outputs": [
    {
     "ename": "KeyError",
     "evalue": "'goyang_ocr_2017'",
     "output_type": "error",
     "traceback": [
      "\u001b[31m---------------------------------------------------------------------------\u001b[39m",
      "\u001b[31mKeyError\u001b[39m                                  Traceback (most recent call last)",
      "\u001b[36mCell\u001b[39m\u001b[36m \u001b[39m\u001b[32mIn[9]\u001b[39m\u001b[32m, line 5\u001b[39m\n\u001b[32m      3\u001b[39m opened_stores = pd.DataFrame()\n\u001b[32m      4\u001b[39m \u001b[38;5;28;01mfor\u001b[39;00m year \u001b[38;5;129;01min\u001b[39;00m \u001b[38;5;28mrange\u001b[39m(\u001b[32m2017\u001b[39m, \u001b[32m2026\u001b[39m):\n\u001b[32m----> \u001b[39m\u001b[32m5\u001b[39m     df = \u001b[38;5;28;43mglobals\u001b[39;49m\u001b[43m(\u001b[49m\u001b[43m)\u001b[49m\u001b[43m[\u001b[49m\u001b[33;43mf\u001b[39;49m\u001b[33;43m\"\u001b[39;49m\u001b[33;43mgoyang_ocr_\u001b[39;49m\u001b[38;5;132;43;01m{\u001b[39;49;00m\u001b[43myear\u001b[49m\u001b[38;5;132;43;01m}\u001b[39;49;00m\u001b[33;43m\"\u001b[39;49m\u001b[43m]\u001b[49m\n\u001b[32m      6\u001b[39m     opened_stores = pd.concat([opened_stores, df[[\u001b[33mf\u001b[39m\u001b[33m\"\u001b[39m\u001b[38;5;132;01m{\u001b[39;00myear\u001b[38;5;132;01m}\u001b[39;00m\u001b[33m년2분기 개업수\u001b[39m\u001b[33m\"\u001b[39m]]], axis=\u001b[32m1\u001b[39m)\n\u001b[32m      7\u001b[39m opened_stores\n",
      "\u001b[31mKeyError\u001b[39m: 'goyang_ocr_2017'"
     ]
    }
   ],
   "source": [
    "# combining opened store data for 고양시 (2017-2025)\n",
    "\n",
    "opened_stores = pd.DataFrame()\n",
    "for year in range(2017, 2026):\n",
    "    df = globals()[f\"goyang_ocr_{year}\"]\n",
    "    opened_stores = pd.concat([opened_stores, df[[f\"{year}년2분기 개업수\"]]], axis=1)\n",
    "opened_stores\n",
    "\n",
    "# plot opened stores trend\n",
    "plt.figure(figsize=(10, 6))\n",
    "sns.lineplot(data=opened_stores.T, marker='o')\n",
    "plt.legend().set_visible(False)\n",
    "plt.title(\"고양시 연도별 발달상권 개업수 추이 (2017-2025)\", fontsize=25)\n",
    "plt.xlabel(\"년도\")\n",
    "plt.ylabel(\"개업수\")\n",
    "plt.xticks(ticks=range(9), labels=[str(year) for year in range(2017, 2026)])\n",
    "plt.show()  "
   ]
  },
  {
   "cell_type": "code",
   "execution_count": null,
   "id": "c376da71",
   "metadata": {},
   "outputs": [],
   "source": []
  },
  {
   "cell_type": "code",
   "execution_count": null,
   "id": "43f24bdf",
   "metadata": {},
   "outputs": [],
   "source": []
  }
 ],
 "metadata": {
  "kernelspec": {
   "display_name": "Python 3",
   "language": "python",
   "name": "python3"
  },
  "language_info": {
   "codemirror_mode": {
    "name": "ipython",
    "version": 3
   },
   "file_extension": ".py",
   "mimetype": "text/x-python",
   "name": "python",
   "nbconvert_exporter": "python",
   "pygments_lexer": "ipython3",
   "version": "3.13.4"
  }
 },
 "nbformat": 4,
 "nbformat_minor": 5
}
